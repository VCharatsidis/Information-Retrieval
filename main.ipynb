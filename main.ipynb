{
 "cells": [
  {
   "cell_type": "code",
   "execution_count": null,
   "metadata": {},
   "outputs": [],
   "source": [
    "\n",
    "import numpy as np\n",
    "\n"
   ]
  },
  {
   "cell_type": "markdown",
   "metadata": {},
   "source": [
    "$\\textbf{Step 1:}$ Simulate Rankings of Relevance for E and P"
   ]
  },
  {
   "cell_type": "code",
   "execution_count": 1,
   "metadata": {},
   "outputs": [
    {
     "name": "stdout",
     "output_type": "stream",
     "text": [
      "[([0, 0, 0], [0, 0, 0]), ([0, 0, 0], [1, 0, 0]), ([0, 0, 0], [1, 1, 0]), ([0, 0, 0], [1, 1, 1]), ([0, 0, 0], [1, 0, 1]), ([0, 0, 0], [0, 1, 1]), ([0, 0, 0], [0, 0, 1]), ([0, 0, 0], [0, 1, 0]), ([1, 0, 0], [0, 0, 0]), ([1, 0, 0], [1, 0, 0]), ([1, 0, 0], [1, 1, 0]), ([1, 0, 0], [1, 1, 1]), ([1, 0, 0], [1, 0, 1]), ([1, 0, 0], [0, 1, 1]), ([1, 0, 0], [0, 0, 1]), ([1, 0, 0], [0, 1, 0]), ([1, 1, 0], [0, 0, 0]), ([1, 1, 0], [1, 0, 0]), ([1, 1, 0], [1, 1, 0]), ([1, 1, 0], [1, 1, 1]), ([1, 1, 0], [1, 0, 1]), ([1, 1, 0], [0, 1, 1]), ([1, 1, 0], [0, 0, 1]), ([1, 1, 0], [0, 1, 0]), ([1, 1, 1], [0, 0, 0]), ([1, 1, 1], [1, 0, 0]), ([1, 1, 1], [1, 1, 0]), ([1, 1, 1], [1, 1, 1]), ([1, 1, 1], [1, 0, 1]), ([1, 1, 1], [0, 1, 1]), ([1, 1, 1], [0, 0, 1]), ([1, 1, 1], [0, 1, 0]), ([1, 0, 1], [0, 0, 0]), ([1, 0, 1], [1, 0, 0]), ([1, 0, 1], [1, 1, 0]), ([1, 0, 1], [1, 1, 1]), ([1, 0, 1], [1, 0, 1]), ([1, 0, 1], [0, 1, 1]), ([1, 0, 1], [0, 0, 1]), ([1, 0, 1], [0, 1, 0]), ([0, 1, 1], [0, 0, 0]), ([0, 1, 1], [1, 0, 0]), ([0, 1, 1], [1, 1, 0]), ([0, 1, 1], [1, 1, 1]), ([0, 1, 1], [1, 0, 1]), ([0, 1, 1], [0, 1, 1]), ([0, 1, 1], [0, 0, 1]), ([0, 1, 1], [0, 1, 0]), ([0, 0, 1], [0, 0, 0]), ([0, 0, 1], [1, 0, 0]), ([0, 0, 1], [1, 1, 0]), ([0, 0, 1], [1, 1, 1]), ([0, 0, 1], [1, 0, 1]), ([0, 0, 1], [0, 1, 1]), ([0, 0, 1], [0, 0, 1]), ([0, 0, 1], [0, 1, 0]), ([0, 1, 0], [0, 0, 0]), ([0, 1, 0], [1, 0, 0]), ([0, 1, 0], [1, 1, 0]), ([0, 1, 0], [1, 1, 1]), ([0, 1, 0], [1, 0, 1]), ([0, 1, 0], [0, 1, 1]), ([0, 1, 0], [0, 0, 1]), ([0, 1, 0], [0, 1, 0])]\n"
     ]
    }
   ],
   "source": [
    "\n",
    "\n",
    "def simulate_rankings():\n",
    "    ''' This method creates all possible combinations of rankings for P and E.\n",
    "    \n",
    "        @Output: a list of tuples. A tuple has 2 integer arrays (one ranking for P and one for E).\n",
    "    '''\n",
    "    P = [[0, 0, 0], [1, 0, 0], [1, 1, 0], [1, 1, 1], [1, 0, 1], [0, 1, 1], [0, 0, 1], [0, 1, 0]]\n",
    "    E = [[0, 0, 0], [1, 0, 0], [1, 1, 0], [1, 1, 1], [1, 0, 1], [0, 1, 1], [0, 0, 1], [0, 1, 0]]\n",
    "    rankings = []\n",
    "    for p in P:\n",
    "        for e in E:\n",
    "            tup1 = (p, e)\n",
    "            rankings.append(tup1)\n",
    "    \n",
    "    print(rankings)\n",
    "    return rankings\n",
    "    \n",
    "rankings = simulate_rankings()"
   ]
  },
  {
   "cell_type": "markdown",
   "metadata": {},
   "source": [
    "$\\textbf{Step 2:}$ Calculate the $\\Delta$ measure\n",
    "\n",
    "We calculate the Expected reciprocal rank of a ranking using the guy \n",
    "\n",
    "ERR := $\\sum_{r = 1}^n \\frac{1}{r}$ P(user stops at position r)\n",
    "\n",
    "where n is the number of documents in the ranking and\n",
    "\n",
    "$P = \\prod_{i=1}^{r-1} (1-R_i)R_r$\n",
    "\n",
    "where $R_i = \\frac{2^g - 1}{2^{g_{max}}}$ where $g_i$ is the grade of the i-th document and $g_{max}$ is the the maximum relevance.\n",
    "\n",
    "Putting it all together ERR:= $\\sum_{r = 1}^n \\frac{1}{r} \\prod_{i=1}^{r-1} (1-R_i)R_r$ \n",
    "\n",
    "As defined in the paper Expected Reciprocal Rank for Graded Relevance. Olivier Chapelle, Ya Zhang, Donald Meltzler, Pierre Grinspan."
   ]
  },
  {
   "cell_type": "code",
   "execution_count": 31,
   "metadata": {},
   "outputs": [
    {
     "data": {
      "text/plain": [
       "1.0"
      ]
     },
     "execution_count": 31,
     "metadata": {},
     "output_type": "execute_result"
    }
   ],
   "source": [
    "def calculate_ERR(ranking):\n",
    "    ''' This method calculates the ERR of a ranking. A ranking is a one dimensional interger list with length 3.\n",
    "    \n",
    "        @Input: a one dimensional list of length 3 with zeros and ones.\n",
    "        \n",
    "        @Output: a double (ERR score).\n",
    "    '''\n",
    "    ERR = 0\n",
    "    for r in range(len(ranking)):\n",
    "        prob_to_stop_at_r = ranking[r]/(r+1)\n",
    "        for i in range(r):\n",
    "            prob_to_stop_at_r *= 1 - ranking[i]\n",
    "            \n",
    "        ERR += prob_to_stop_at_r\n",
    "        \n",
    "    return ERR\n",
    "        \n",
    "calculate_ERR(rankings[1][1])"
   ]
  },
  {
   "cell_type": "markdown",
   "metadata": {},
   "source": [
    "Then we calculate the $\\Delta $measures and split them in 10 buckets.\n",
    "\n",
    "The buckets are made such that group 1 contains all pairs for which 0.05 < $\\Delta$ measure ≤ 0.1, group 2 all pairs for which 0.1 < $\\Delta$measure ≤ 0.2, etc.\n"
   ]
  },
  {
   "cell_type": "code",
   "execution_count": 32,
   "metadata": {},
   "outputs": [
    {
     "name": "stdout",
     "output_type": "stream",
     "text": [
      "{0: [], 1: [53, 55], 2: [], 3: [6], 4: [], 5: [5, 7, 41, 42, 43, 44, 57, 58, 59, 60], 6: [49, 50, 51, 52], 7: [], 8: [], 9: []}\n"
     ]
    }
   ],
   "source": [
    "def calculate_Dmeasures(rankings):\n",
    "    ''' This method calculates the difference in ERR between the two rankings of every tuple, \n",
    "        for all tuples of rankings.\n",
    "        Since we need to store the results in 10 different buckets we use a dictionary with keys 10 integers \n",
    "        from 0 to 9 with step 1 and values the list of our measurements.\n",
    "    \n",
    "        @Input: a list of tuples.\n",
    "        \n",
    "        @Output: A dictionary with keys integers from 0 to 9 and values 10 lists of doubles. \n",
    "        \n",
    "    '''\n",
    "    \n",
    "    measures = {k:[] for k in range(10)}\n",
    "    for index, r in enumerate(rankings):\n",
    "        ERR_P = calculate_ERR(r[0])\n",
    "        ERR_E = calculate_ERR(r[1])\n",
    "        \n",
    "        d_measure = ERR_E - ERR_P\n",
    "        \n",
    "        if d_measure >= 0.05 and d_measure <= 0.95:\n",
    "            measures[int(d_measure * 10)].append(index)\n",
    "            \n",
    "    \n",
    "    return measures\n",
    "\n",
    "measures = calculate_Dmeasures(rankings)\n",
    "print(measures)"
   ]
  },
  {
   "cell_type": "markdown",
   "metadata": {},
   "source": [
    "$\\textbf{Step 3}$: Implement Team-Draft Interleaving and Probabilistic Intearleaving\n",
    "\n",
    "$\\textbf{Team Draft Interleaving}$ is performed by throwing a coin. If its heads we put, in the interleaved list,\n",
    "the first document of list A that is not already in and then the first document of list B that is not already in,\n",
    "if its tails we start with B and then A.\n",
    "We repeat until the interleaved list if full.\n",
    "\n",
    "        "
   ]
  },
  {
   "cell_type": "code",
   "execution_count": 33,
   "metadata": {},
   "outputs": [],
   "source": [
    "def team_draft_interleaving(list_a, list_b):\n",
    "    ''' Team draft interleaving is performed by throwing a coin. If its heads we put in the interleaved list\n",
    "        the first element of list A that is not already in,\n",
    "        if its tails we put in the interleaved list the first element of list B that is not already in.\n",
    "        \n",
    "        @Input: 2 lists of intergers of length 3.\n",
    "        \n",
    "        @Output: an interleaved list of tuples of length 3. Each tuple contain an integer (document ID) and a 0 or 1 \n",
    "        depending of which list it came from.\n",
    "    \n",
    "    '''\n",
    "    \n",
    "    interleaved_list = [ ]\n",
    "    counter = 0\n",
    "    while counter < 3:\n",
    "        coin_toss = random.random()\n",
    "                   \n",
    "        if(coin_toss > 0.5):\n",
    "            put_first_available_url_in_interleaved(list_a, 0, interleaved_list)\n",
    "            counter += 1\n",
    "            if(counter == 2):\n",
    "                return interleaved_list\n",
    "            \n",
    "            put_first_available_url_in_interleaved(list_b, 1, interleaved_list)  \n",
    "            counter += 1\n",
    "        else:\n",
    "            put_first_available_url_in_interleaved(list_b, 1, interleaved_list)\n",
    "            counter += 1\n",
    "            if(counter == 2):\n",
    "                return interleaved_list\n",
    "            \n",
    "            put_first_available_url_in_interleaved(list_a, 0, interleaved_list)\n",
    "            counter += 1\n",
    "            \n",
    "    return interleaved_list\n",
    "\n",
    "    \n",
    "def put_first_available_url_in_interleaved(a_list, index_list, interleaved_list):\n",
    "    ''' Helper method that creates a tuple with and integer (document ID) and \n",
    "        a 0 or 1 which indicates from which list it came from and adds it in the interleaved list. \n",
    "        \n",
    "        @Input: - a list of intergers of length 3.\n",
    "                - a 0 or 1 indicator of the list.\n",
    "                - the interleaved list with all tuples of rnakings.\n",
    "         \n",
    "    '''\n",
    "    for i in a_list:\n",
    "        already_in_interleaved = False\n",
    "        for tupl in interleaved_list:\n",
    "            if tupl[0] == i:\n",
    "                already_in_interleaved = True\n",
    "                \n",
    "        if i not already_in_interleaved:\n",
    "            tup = (i, index_list)\n",
    "            intearleaved_list.append(tup)\n",
    "            return\n",
    "  \n"
   ]
  },
  {
   "cell_type": "markdown",
   "metadata": {},
   "source": [
    "$\\textbf{Probabilistic Intearleaving}$ is performed similarly but instead of choosing the first document we chose the documents from the lists probabilisticly where the probabilities of the documents are produced from 2 softmax functions\n",
    "(one for every list).\n",
    "\n",
    "The softmax function assigns probability of selecting a document ($P_{s_{x}}(d)$) that is inversely proportional to a power of the rank $r_x(d)$ of a document d in a list.\n",
    "\n",
    "$P_{s_{x}}(d) = \\frac{ \\frac{1}{r_x(d)^\\tau}}{\\sum_{d2\\in D} \\frac{1}{r_x(d2)^\\tau}}$ \n",
    "\n",
    "where the parameter $\\tau$ controls how quickly selection probabilities decay as rank decreases.\n",
    "\n",
    "as defined in the paper A Probabilistic Method for Inferring Preferences from Clicks. Katja Hofmann, Shimon Whiteson and Maarten de Rijke. University of Amsterdam"
   ]
  },
  {
   "cell_type": "code",
   "execution_count": 35,
   "metadata": {},
   "outputs": [],
   "source": [
    "\n",
    "def probabilistic_interleaving(list_a, list_b):\n",
    "    ''' Probabilistic interleaving perfromed by throwing coins, if its heads we use the softmax function of list A\n",
    "        to choose randomly (with higher probability the more relevant rankings)\n",
    "        else we use the softmax function of list B. \n",
    "        After we put the choosen doc we remove it from both lists A and B softmaxes.\n",
    "        We do this until the interleaved list is full.\n",
    "        The interleaved list contains tuples with the document ID and a 0 or 1 considering the list that it came from.\n",
    "        \n",
    "        @Input: 2 lists of intergers of length 3.\n",
    "        \n",
    "        @Output: an interleaved list of tuples of length 3. Each tuple contain an integer (document ID) and a 0 or 1 \n",
    "        depending of which list it came from.\n",
    "    \n",
    "    '''\n",
    "    interleaved_list = [ ]\n",
    "    counter = 0\n",
    "    \n",
    "    while counter < 3:\n",
    "        coin_toss = random.random()\n",
    "                   \n",
    "        if(coin_toss > 0.5):\n",
    "            probs = softmax(list_a)\n",
    "            chosen = np.random.choice(list_a, probs)\n",
    "            list_a.remove(chosen)\n",
    "            list_b.remove(chosen)\n",
    "            counter += 1\n",
    "        else:\n",
    "            probs = softmax(list_b)\n",
    "            chosen = np.random.choice(list_b, probs)\n",
    "            list_b.remove(chosen)\n",
    "            list_a.remove(chosen)\n",
    "            counter += 1\n",
    "           \n",
    "            \n",
    "    return interleaved_list\n",
    "    \n",
    "    \n",
    "def softmax(rankings, tau = 3):\n",
    "    ''' Helper method that calculates the probabilities of every document in the given list\n",
    "        using the softmax function in a vectorised from.\n",
    "        \n",
    "        @Input: list of intergers of length 3 (rankings).\n",
    "        \n",
    "        @Output: a vector with probabilities for every document.\n",
    "    \n",
    "    '''\n",
    "    numerators = 1 / np.power(rankings, tau)\n",
    "    denominator = numerators.sum()\n",
    "    \n",
    "    return numerators / denominator\n",
    "    "
   ]
  },
  {
   "cell_type": "code",
   "execution_count": null,
   "metadata": {},
   "outputs": [],
   "source": []
  },
  {
   "cell_type": "code",
   "execution_count": null,
   "metadata": {},
   "outputs": [],
   "source": []
  }
 ],
 "metadata": {
  "kernelspec": {
   "display_name": "Python 3",
   "language": "python",
   "name": "python3"
  },
  "language_info": {
   "codemirror_mode": {
    "name": "ipython",
    "version": 3
   },
   "file_extension": ".py",
   "mimetype": "text/x-python",
   "name": "python",
   "nbconvert_exporter": "python",
   "pygments_lexer": "ipython3",
   "version": "3.6.5"
  }
 },
 "nbformat": 4,
 "nbformat_minor": 2
}
