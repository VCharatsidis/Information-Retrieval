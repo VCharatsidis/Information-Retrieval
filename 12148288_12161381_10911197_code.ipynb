{
 "cells": [
  {
   "cell_type": "code",
   "execution_count": 29,
   "metadata": {},
   "outputs": [],
   "source": [
    "\n",
    "import numpy as np\n"
   ]
  },
  {
   "cell_type": "code",
   "execution_count": 30,
   "metadata": {},
   "outputs": [
    {
     "name": "stdout",
     "output_type": "stream",
     "text": [
      "[([0, 0, 0], [0, 0, 0]), ([0, 0, 0], [1, 0, 0]), ([0, 0, 0], [1, 1, 0]), ([0, 0, 0], [1, 1, 1]), ([0, 0, 0], [1, 0, 1]), ([0, 0, 0], [0, 1, 1]), ([0, 0, 0], [0, 0, 1]), ([0, 0, 0], [0, 1, 0]), ([1, 0, 0], [0, 0, 0]), ([1, 0, 0], [1, 0, 0]), ([1, 0, 0], [1, 1, 0]), ([1, 0, 0], [1, 1, 1]), ([1, 0, 0], [1, 0, 1]), ([1, 0, 0], [0, 1, 1]), ([1, 0, 0], [0, 0, 1]), ([1, 0, 0], [0, 1, 0]), ([1, 1, 0], [0, 0, 0]), ([1, 1, 0], [1, 0, 0]), ([1, 1, 0], [1, 1, 0]), ([1, 1, 0], [1, 1, 1]), ([1, 1, 0], [1, 0, 1]), ([1, 1, 0], [0, 1, 1]), ([1, 1, 0], [0, 0, 1]), ([1, 1, 0], [0, 1, 0]), ([1, 1, 1], [0, 0, 0]), ([1, 1, 1], [1, 0, 0]), ([1, 1, 1], [1, 1, 0]), ([1, 1, 1], [1, 1, 1]), ([1, 1, 1], [1, 0, 1]), ([1, 1, 1], [0, 1, 1]), ([1, 1, 1], [0, 0, 1]), ([1, 1, 1], [0, 1, 0]), ([1, 0, 1], [0, 0, 0]), ([1, 0, 1], [1, 0, 0]), ([1, 0, 1], [1, 1, 0]), ([1, 0, 1], [1, 1, 1]), ([1, 0, 1], [1, 0, 1]), ([1, 0, 1], [0, 1, 1]), ([1, 0, 1], [0, 0, 1]), ([1, 0, 1], [0, 1, 0]), ([0, 1, 1], [0, 0, 0]), ([0, 1, 1], [1, 0, 0]), ([0, 1, 1], [1, 1, 0]), ([0, 1, 1], [1, 1, 1]), ([0, 1, 1], [1, 0, 1]), ([0, 1, 1], [0, 1, 1]), ([0, 1, 1], [0, 0, 1]), ([0, 1, 1], [0, 1, 0]), ([0, 0, 1], [0, 0, 0]), ([0, 0, 1], [1, 0, 0]), ([0, 0, 1], [1, 1, 0]), ([0, 0, 1], [1, 1, 1]), ([0, 0, 1], [1, 0, 1]), ([0, 0, 1], [0, 1, 1]), ([0, 0, 1], [0, 0, 1]), ([0, 0, 1], [0, 1, 0]), ([0, 1, 0], [0, 0, 0]), ([0, 1, 0], [1, 0, 0]), ([0, 1, 0], [1, 1, 0]), ([0, 1, 0], [1, 1, 1]), ([0, 1, 0], [1, 0, 1]), ([0, 1, 0], [0, 1, 1]), ([0, 1, 0], [0, 0, 1]), ([0, 1, 0], [0, 1, 0])]\n"
     ]
    }
   ],
   "source": [
    "\n",
    "def simulate_rankings():\n",
    "    P = [[0, 0, 0], [1, 0, 0], [1, 1, 0], [1, 1, 1], [1, 0, 1], [0, 1, 1], [0, 0, 1], [0, 1, 0]]\n",
    "    E = [[0, 0, 0], [1, 0, 0], [1, 1, 0], [1, 1, 1], [1, 0, 1], [0, 1, 1], [0, 0, 1], [0, 1, 0]]\n",
    "    rankings = []\n",
    "    for p in P:\n",
    "        for e in E:\n",
    "            tup1 = (p, e)\n",
    "            rankings.append(tup1)\n",
    "    \n",
    "    print(rankings)\n",
    "    return rankings\n",
    "    \n",
    "rankings = simulate_rankings()"
   ]
  },
  {
   "cell_type": "code",
   "execution_count": 31,
   "metadata": {},
   "outputs": [
    {
     "data": {
      "text/plain": [
       "1.0"
      ]
     },
     "execution_count": 31,
     "metadata": {},
     "output_type": "execute_result"
    }
   ],
   "source": [
    "def calculate_ERR(ranking):\n",
    "    ERR = 0\n",
    "    for r in range(len(ranking)):\n",
    "        prob_to_stop_at_r = ranking[r]/(r+1)\n",
    "        for i in range(r):\n",
    "            prob_to_stop_at_r *= 1 - ranking[i]\n",
    "            \n",
    "        ERR += prob_to_stop_at_r\n",
    "        \n",
    "    return ERR\n",
    "        \n",
    "calculate_ERR(rankings[1][1])"
   ]
  },
  {
   "cell_type": "code",
   "execution_count": 32,
   "metadata": {},
   "outputs": [
    {
     "name": "stdout",
     "output_type": "stream",
     "text": [
      "{0: [], 1: [53, 55], 2: [], 3: [6], 4: [], 5: [5, 7, 41, 42, 43, 44, 57, 58, 59, 60], 6: [49, 50, 51, 52], 7: [], 8: [], 9: []}\n"
     ]
    }
   ],
   "source": [
    "def calculate_Dmeasures(rankings):\n",
    "    \n",
    "    measures = {k:[] for k in range(10)}\n",
    "    for index, r in enumerate(rankings):\n",
    "        ERR_P = calculate_ERR(r[0])\n",
    "        ERR_E = calculate_ERR(r[1])\n",
    "        \n",
    "        d_measure = ERR_E - ERR_P\n",
    "        \n",
    "        if d_measure >= 0.05 and d_measure <= 0.95:\n",
    "            measures[int(d_measure * 10)].append(index)\n",
    "            \n",
    "    \n",
    "    return measures\n",
    "\n",
    "measures = calculate_Dmeasures(rankings)\n",
    "print(measures)"
   ]
  },
  {
   "cell_type": "code",
   "execution_count": 33,
   "metadata": {},
   "outputs": [],
   "source": [
    "def team_draft_interleaving(list_a, list_b):\n",
    "    \n",
    "    interleaved_list = [ ]\n",
    "    counter = 0\n",
    "    while counter < 3:\n",
    "        coin_toss = random.random()\n",
    "                   \n",
    "        if(coin_toss > 0.5):\n",
    "            put_first_available_url_in_interleaved(list_a, 0, interleaved_list)\n",
    "            counter += 1\n",
    "            if(counter == 2):\n",
    "                return interleaved_list\n",
    "            \n",
    "            put_first_available_url_in_interleaved(list_b, 1, interleaved_list)  \n",
    "            counter += 1\n",
    "        else:\n",
    "            put_first_available_url_in_interleaved(list_b, 1, interleaved_list)\n",
    "            counter += 1\n",
    "            if(counter == 2):\n",
    "                return interleaved_list\n",
    "            \n",
    "            put_first_available_url_in_interleaved(list_a, 0, interleaved_list)\n",
    "            counter += 1\n",
    "            \n",
    "    return interleaved_list\n",
    "\n",
    "    \n",
    "def put_first_available_url_in_interleaved(a_list, index_list, interleaved_list):\n",
    "    for i in a_list:\n",
    "        if i not in interleaved_list:\n",
    "            tup = (i, index_list)\n",
    "            intearleaved_list.append(tup)\n",
    "            return\n",
    "  \n"
   ]
  },
  {
   "cell_type": "code",
   "execution_count": 35,
   "metadata": {},
   "outputs": [],
   "source": [
    "def probabilistic_interleaving(list_a, list_b):\n",
    "    interleaved_list = [ ]\n",
    "    counter = 0\n",
    "    \n",
    "    while counter < 3:\n",
    "        coin_toss = random.random()\n",
    "                   \n",
    "        if(coin_toss > 0.5):\n",
    "            probs = softmax(list_a)\n",
    "            chosen = np.random.choice(list_a, probs)\n",
    "            list_a.remove(chosen)\n",
    "            list_b.remove(chosen)\n",
    "            counter += 1\n",
    "        else:\n",
    "            probs = softmax(list_b)\n",
    "            chosen = np.random.choice(list_b, probs)\n",
    "            list_b.remove(chosen)\n",
    "            list_a.remove(chosen)\n",
    "            counter += 1\n",
    "           \n",
    "            \n",
    "    return interleaved_list\n",
    "    \n",
    "    \n",
    "def softmax(rankings, tau = 3):\n",
    "    numerators = 1 / np.power(rankings, tau)\n",
    "    denominator = numerators.sum()\n",
    "    \n",
    "    return numerators / denominator\n",
    "    "
   ]
  },
  {
   "cell_type": "code",
   "execution_count": null,
   "metadata": {},
   "outputs": [],
   "source": []
  }
 ],
 "metadata": {
  "kernelspec": {
   "display_name": "Python 3",
   "language": "python",
   "name": "python3"
  },
  "language_info": {
   "codemirror_mode": {
    "name": "ipython",
    "version": 3
   },
   "file_extension": ".py",
   "mimetype": "text/x-python",
   "name": "python",
   "nbconvert_exporter": "python",
   "pygments_lexer": "ipython3",
   "version": "3.6.5"
  }
 },
 "nbformat": 4,
 "nbformat_minor": 2
}
