{
 "cells": [
  {
   "cell_type": "code",
   "execution_count": 39,
   "metadata": {
    "ExecuteTime": {
     "end_time": "2019-01-23T19:33:31.750378Z",
     "start_time": "2019-01-23T19:33:31.737082Z"
    },
    "collapsed": true
   },
   "outputs": [],
   "source": [
    "# Import all dependencies\n",
    "import numpy as np\n",
    "import random as rd\n",
    "import pandas as pd\n",
    "import math\n",
    "import re\n",
    "from scipy.stats import norm\n",
    "from copy import deepcopy\n",
    "import matplotlib.pyplot as plt\n",
    "%matplotlib inline"
   ]
  },
  {
   "cell_type": "markdown",
   "metadata": {},
   "source": [
    "### Step 1: Simulate Rankings of Relevance for E and P"
   ]
  },
  {
   "cell_type": "code",
   "execution_count": 40,
   "metadata": {
    "ExecuteTime": {
     "end_time": "2019-01-23T19:33:31.804948Z",
     "start_time": "2019-01-23T19:33:31.753886Z"
    }
   },
   "outputs": [
    {
     "name": "stdout",
     "output_type": "stream",
     "text": [
      "[([0, 0, 0], [0, 0, 0]), ([0, 0, 0], [1, 0, 0]), ([0, 0, 0], [1, 1, 0]), ([0, 0, 0], [1, 1, 1]), ([0, 0, 0], [1, 0, 1]), ([0, 0, 0], [0, 1, 1]), ([0, 0, 0], [0, 0, 1]), ([0, 0, 0], [0, 1, 0]), ([1, 0, 0], [0, 0, 0]), ([1, 0, 0], [1, 0, 0]), ([1, 0, 0], [1, 1, 0]), ([1, 0, 0], [1, 1, 1]), ([1, 0, 0], [1, 0, 1]), ([1, 0, 0], [0, 1, 1]), ([1, 0, 0], [0, 0, 1]), ([1, 0, 0], [0, 1, 0]), ([1, 1, 0], [0, 0, 0]), ([1, 1, 0], [1, 0, 0]), ([1, 1, 0], [1, 1, 0]), ([1, 1, 0], [1, 1, 1]), ([1, 1, 0], [1, 0, 1]), ([1, 1, 0], [0, 1, 1]), ([1, 1, 0], [0, 0, 1]), ([1, 1, 0], [0, 1, 0]), ([1, 1, 1], [0, 0, 0]), ([1, 1, 1], [1, 0, 0]), ([1, 1, 1], [1, 1, 0]), ([1, 1, 1], [1, 1, 1]), ([1, 1, 1], [1, 0, 1]), ([1, 1, 1], [0, 1, 1]), ([1, 1, 1], [0, 0, 1]), ([1, 1, 1], [0, 1, 0]), ([1, 0, 1], [0, 0, 0]), ([1, 0, 1], [1, 0, 0]), ([1, 0, 1], [1, 1, 0]), ([1, 0, 1], [1, 1, 1]), ([1, 0, 1], [1, 0, 1]), ([1, 0, 1], [0, 1, 1]), ([1, 0, 1], [0, 0, 1]), ([1, 0, 1], [0, 1, 0]), ([0, 1, 1], [0, 0, 0]), ([0, 1, 1], [1, 0, 0]), ([0, 1, 1], [1, 1, 0]), ([0, 1, 1], [1, 1, 1]), ([0, 1, 1], [1, 0, 1]), ([0, 1, 1], [0, 1, 1]), ([0, 1, 1], [0, 0, 1]), ([0, 1, 1], [0, 1, 0]), ([0, 0, 1], [0, 0, 0]), ([0, 0, 1], [1, 0, 0]), ([0, 0, 1], [1, 1, 0]), ([0, 0, 1], [1, 1, 1]), ([0, 0, 1], [1, 0, 1]), ([0, 0, 1], [0, 1, 1]), ([0, 0, 1], [0, 0, 1]), ([0, 0, 1], [0, 1, 0]), ([0, 1, 0], [0, 0, 0]), ([0, 1, 0], [1, 0, 0]), ([0, 1, 0], [1, 1, 0]), ([0, 1, 0], [1, 1, 1]), ([0, 1, 0], [1, 0, 1]), ([0, 1, 0], [0, 1, 1]), ([0, 1, 0], [0, 0, 1]), ([0, 1, 0], [0, 1, 0])]\n"
     ]
    }
   ],
   "source": [
    "def simulate_rankings():\n",
    "    ''' This method creates all possible combinations of rankings for P and E.\n",
    "\n",
    "        @Output: a list of tuples. A tuple has 2 integer arrays (one ranking for P and one for E).\n",
    "    '''\n",
    "    P = [[0, 0, 0], [1, 0, 0], [1, 1, 0], [1, 1, 1],\n",
    "         [1, 0, 1], [0, 1, 1], [0, 0, 1], [0, 1, 0]]\n",
    "    E = [[0, 0, 0], [1, 0, 0], [1, 1, 0], [1, 1, 1],\n",
    "         [1, 0, 1], [0, 1, 1], [0, 0, 1], [0, 1, 0]]\n",
    "    rankings = []\n",
    "\n",
    "    for p in P:\n",
    "        for e in E:\n",
    "            tup1 = (p, e)\n",
    "            rankings.append(tup1)\n",
    "\n",
    "    print(rankings)\n",
    "    return rankings\n",
    "\n",
    "\n",
    "rankings = simulate_rankings()"
   ]
  },
  {
   "cell_type": "markdown",
   "metadata": {},
   "source": [
    "### Step 2: Calculate the $\\Delta$ measure\n",
    "\n",
    "We calculate the Expected reciprocal rank of a ranking using the guy \n",
    "\n",
    "ERR := $\\sum_{r = 1}^n \\frac{1}{r}$ P(user stops at position r)\n",
    "\n",
    "where n is the number of documents in the ranking and\n",
    "\n",
    "$P = \\prod_{i=1}^{r-1} (1-R_i)R_r$\n",
    "\n",
    "where $R_i = \\frac{2^g - 1}{2^{g_{max}}}$ where $g_i$ is the grade of the i-th document and $g_{max}$ is the the maximum relevance."
   ]
  },
  {
   "cell_type": "code",
   "execution_count": 41,
   "metadata": {
    "ExecuteTime": {
     "end_time": "2019-01-23T19:33:31.829808Z",
     "start_time": "2019-01-23T19:33:31.810779Z"
    },
    "collapsed": true
   },
   "outputs": [],
   "source": [
    "def calculate_ERR(ranking):\n",
    "    ''' This method calculates the ERR of a ranking. A ranking is a one dimensional interger list with length 3.\n",
    "\n",
    "        @Input: a one dimensional list of length 3 with zeros and ones.\n",
    "\n",
    "        @Output: a double (ERR score).\n",
    "    '''\n",
    "    ERR = 0\n",
    "    for r in range(len(ranking)):\n",
    "        prob_to_stop_at_r = ranking[r]/(r+1)/2\n",
    "        for i in range(r):\n",
    "            prob_to_stop_at_r *= 1 - ranking[i]/2\n",
    "\n",
    "        ERR += prob_to_stop_at_r\n",
    "\n",
    "    return ERR"
   ]
  },
  {
   "cell_type": "markdown",
   "metadata": {},
   "source": [
    "The buckets are made such that group 1 contains all pairs for which 0.05 < $\\Delta$ measure ≤ 0.1, group 2 all pairs for which 0.1 < $\\Delta$measure ≤ 0.2, etc."
   ]
  },
  {
   "cell_type": "code",
   "execution_count": 42,
   "metadata": {
    "ExecuteTime": {
     "end_time": "2019-01-23T19:33:31.858907Z",
     "start_time": "2019-01-23T19:33:31.834819Z"
    },
    "collapsed": true
   },
   "outputs": [],
   "source": [
    "def calculate_Dmeasures(rankings):\n",
    "    ''' This method calculates the difference in ERR between the two rankings of every tuple, \n",
    "        for all tuples of rankings.\n",
    "        Since we need to store the results in 10 different buckets we use a dictionary with keys 10 integers \n",
    "        from 0 to 9 with step 1 and values the list of our measurements.\n",
    "\n",
    "        @Input: a list of tuples.\n",
    "\n",
    "        @Output: A dictionary with keys integers from 0 to 9 and values 10 lists of doubles. \n",
    "    '''\n",
    "    measures = {k: [] for k in range(10)}\n",
    "\n",
    "    # The indices in measures are now the indices of the pair tuples\n",
    "    for index, r in enumerate(rankings):\n",
    "        ERR_P = calculate_ERR(r[0])\n",
    "        ERR_E = calculate_ERR(r[1])\n",
    "\n",
    "        d_measure = ERR_E - ERR_P\n",
    "        if d_measure >= 0.05 and d_measure <= 0.95:\n",
    "            measures[int(d_measure * 10)].append(index)\n",
    "\n",
    "    return measures\n"
   ]
  },
  {
   "cell_type": "markdown",
   "metadata": {},
   "source": [
    "### Step 3: Implement Team-Draft Interleaving and Probabilistic Intearleaving"
   ]
  },
  {
   "cell_type": "code",
   "execution_count": 43,
   "metadata": {
    "ExecuteTime": {
     "end_time": "2019-01-23T19:33:32.121049Z",
     "start_time": "2019-01-23T19:33:31.865206Z"
    },
    "collapsed": true
   },
   "outputs": [],
   "source": [
    "def convert_lists_to_labeled(list_a, list_b):\n",
    "    ''' Give the ranking lists of documents\n",
    "    '''\n",
    "    considered_lists = [deepcopy(list_a), deepcopy(list_b)]\n",
    "    label_results = []\n",
    "    # set_trace()\n",
    "\n",
    "    for doc_list in considered_lists:\n",
    "        possible_labels = rd.sample(range(1, 20), 3)\n",
    "        label_results.append(list(zip(doc_list, possible_labels)))\n",
    "\n",
    "    return label_results\n",
    "\n",
    "\n",
    "def team_draft_interleaving(list_a, list_b):\n",
    "    ''' Team draft interleaving is performed by throwing a coin. If its heads we put in the interleaved list\n",
    "        the first element of list A that is not already in,\n",
    "        if its tails we put in the interleaved list the first element of list B that is not already in.\n",
    "\n",
    "        @Input: 2 lists of integers of length 3.\n",
    "\n",
    "        @Output: an interleaved list of tuples of length 3. Each tuple contain an integer (document ID) and a 0 or 1 \n",
    "        depending of which list it came from.\n",
    "    '''\n",
    "\n",
    "    unique_doc_list = []\n",
    "    interleaved_list = []\n",
    "    counter = 0\n",
    "    list_a_labeled, list_b_labeled = convert_lists_to_labeled(\n",
    "        deepcopy(list_a), deepcopy(list_b))\n",
    "\n",
    "    while counter < 3:\n",
    "        coin_toss = rd.random()\n",
    "\n",
    "        if(coin_toss > 0.5):\n",
    "            put_first_available_url_in_interleaved(\n",
    "                list_a_labeled, 0, interleaved_list, unique_doc_list)\n",
    "            counter += 1\n",
    "\n",
    "            if(counter == 3):\n",
    "                return interleaved_list\n",
    "\n",
    "            put_first_available_url_in_interleaved(\n",
    "                list_b_labeled, 1, interleaved_list, unique_doc_list)\n",
    "            counter += 1\n",
    "        else:\n",
    "            put_first_available_url_in_interleaved(\n",
    "                list_b_labeled, 1, interleaved_list, unique_doc_list)\n",
    "            counter += 1\n",
    "            if(counter == 3):\n",
    "                return interleaved_list\n",
    "\n",
    "            put_first_available_url_in_interleaved(\n",
    "                list_a_labeled, 0, interleaved_list, unique_doc_list)\n",
    "            counter += 1\n",
    "\n",
    "    print(\"List is:\", interleaved_list)\n",
    "    return interleaved_list\n",
    "\n",
    "\n",
    "def put_first_available_url_in_interleaved(a_list, index_list, interleaved_list, unique_doc_list):\n",
    "    ''' Helper method that creates a tuple with and integer (document ID) and \n",
    "        a 0 or 1 which indicates from which list it came from and adds it in the interleaved list. \n",
    "\n",
    "        @Input: - a list of intergers of length 3.\n",
    "                - a 0 or 1 indicator of the list.\n",
    "                - the interleaved list with all tuples of rnakings.\n",
    "\n",
    "    '''\n",
    "\n",
    "    for i in a_list:\n",
    "        if i[1] not in unique_doc_list:\n",
    "            interleaved_list.append((i[0], index_list))\n",
    "            unique_doc_list.append(i[1])\n",
    "            return\n"
   ]
  },
  {
   "cell_type": "code",
   "execution_count": 44,
   "metadata": {
    "ExecuteTime": {
     "end_time": "2019-01-23T19:33:32.151490Z",
     "start_time": "2019-01-23T19:33:32.133784Z"
    }
   },
   "outputs": [
    {
     "data": {
      "text/plain": [
       "[(0, 1), (0, 0), (0, 1)]"
      ]
     },
     "execution_count": 44,
     "metadata": {},
     "output_type": "execute_result"
    }
   ],
   "source": [
    "team_draft_interleaving(rankings[0][0], rankings[0][1])"
   ]
  },
  {
   "cell_type": "markdown",
   "metadata": {},
   "source": [
    "$\\textbf{Probabilistic Intearleaving}$ is performed similarly but instead of choosing the first document we chose the documents from the lists probabilisticly where the probabilities of the documents are produced from 2 softmax functions\n",
    "(one for every list)."
   ]
  },
  {
   "cell_type": "code",
   "execution_count": 45,
   "metadata": {
    "ExecuteTime": {
     "end_time": "2019-01-23T19:33:32.321472Z",
     "start_time": "2019-01-23T19:33:32.157638Z"
    },
    "collapsed": true
   },
   "outputs": [],
   "source": [
    "def probabilistic_interleaving(list_a, list_b):\n",
    "    ''' Probabilistic interleaving perfromed by throwing coins, if its heads we use the softmax function of list A\n",
    "        to choose randomly (with higher probability the more relevant rankings)\n",
    "        else we use the softmax function of list B. \n",
    "        After we put the choosen doc we remove it from both lists A and B softmaxes.\n",
    "        We do this until the interleaved list is full.\n",
    "        The interleaved list contains tuples with the document ID and a 0 or 1 considering the list that it came from.\n",
    "\n",
    "        @Input: 2 lists of integers of length 3.\n",
    "\n",
    "        @Output: an interleaved list of tuples of length 3. Each tuple contain an integer (document ID) and a 0 or 1 \n",
    "        depending of which list it came from.\n",
    "\n",
    "    '''\n",
    "    interleaved_list = [ ]\n",
    "    counter = 0\n",
    "    list_a, list_b = deepcopy(list_a), deepcopy(list_b)\n",
    "    while counter < 3:\n",
    "        coin_toss = rd.random()\n",
    "        if len(list_a+list_b) == 0:\n",
    "            raise InvalidArgumentError\n",
    "        if(coin_toss > 0.5):\n",
    "            if len(list_a) == 0:\n",
    "                continue\n",
    "            probs = softmax(list_a)\n",
    "            chosen = np.random.choice(list_a, 1, p = probs)\n",
    "            tup = (int(chosen), 0)\n",
    "            interleaved_list.append(tup)\n",
    "               \n",
    "        else:\n",
    "            if len(list_b) == 0:\n",
    "                continue\n",
    "            probs = softmax(list_b)\n",
    "            chosen = np.random.choice(list_b, 1, p = probs)\n",
    "            tup = (int(chosen), 1)\n",
    "            interleaved_list.append(tup)\n",
    "      \n",
    "        counter += 1  \n",
    "        if chosen in list_a: \n",
    "            list_a.remove(chosen)\n",
    "            \n",
    "        if chosen in list_b: \n",
    "            list_b.remove(chosen)\n",
    "            \n",
    "    return interleaved_list\n",
    "    \n",
    "\n",
    "\n",
    "def softmax(a_list, tau=3):\n",
    "    ''' Helper method that calculates the probabilities of every document in the given list\n",
    "        using the softmax function in a vectorised from.\n",
    "\n",
    "        @Input: list of intergers of length 3 (rankings).\n",
    "\n",
    "        @Output: a vector with probabilities for every document.\n",
    "    '''\n",
    "    rankings = []\n",
    "    for i,doc in enumerate(a_list):\n",
    "        rankings.append(i+1)\n",
    "    \n",
    "    numerators = 1 / np.power(rankings, tau)\n",
    " \n",
    "    denominator = numerators.sum()\n",
    "   \n",
    "    return numerators / denominator"
   ]
  },
  {
   "cell_type": "markdown",
   "metadata": {},
   "source": [
    "\n",
    "### Step 4: Implement Click-based models"
   ]
  },
  {
   "cell_type": "markdown",
   "metadata": {
    "ExecuteTime": {
     "end_time": "2019-01-23T20:39:10.964247Z",
     "start_time": "2019-01-23T20:39:10.924705Z"
    }
   },
   "source": [
    "\n",
    "#### Position Based Model} (PBM) is expressed with the equations bellow:\n",
    "\n",
    "$P(E_{r_u} = 1) = \\gamma_{r_u}$\n",
    "\n",
    "$P(A_u = 1) = \\alpha_{uq}$\n",
    "\n",
    "$P(C_u =1) = P(E_{r_u} = 1) \\cdot P(A_u = 1)$\n",
    "\n",
    "\n",
    "The parameters of PBM can be estimated based on the Expectation-Maximization (EM) method:\n",
    "\n",
    "  * Set parameters to some initial values\n",
    "  * Repeat until convergence:\n",
    "      * E-step: derive the expectation of the likelihood function.\n",
    "      * M-step: maximize this expectation.\n",
    "\n",
    "\n",
    "We update the attractiveness with the formula:\n",
    "\n",
    "$\\alpha^{(t+1)} =  \\frac{1}{|S_{uq}|} \\sum_{s\\in S_{uq}}\\bigg(c^{(s)}_{u} +(1 - c^{(s)}_{u}) \\frac{(1 - \\gamma^{(t)}_r) \\alpha^{(t)}_{uq}}{1 -\\gamma^{(t)}_r \\alpha^{(t)}_{uq}} \\bigg)$\n",
    "\n",
    "and the examination with the formula:\n",
    "\n",
    "$\\gamma^{(t+1)}_r = \\frac{1}{|S|} \\sum_{s\\in S_{uq}}\\bigg(c^{(s)}_{u} + (1 - c^{(s)}_{u}) \\frac{( \\gamma^{(t)}_r)(1 - \\alpha^{(t)}_{uq})}{1 -\\gamma^{(t)}_r \\alpha^{(t)}_{uq}} \\bigg)$\n",
    "\n",
    "#### Random Click Model}(RCM) is expressed with the equation bellow:\n",
    "\n",
    "$P(C_u =1) = const = \\rho$\n",
    "\n",
    "Where $E_r$ stands for Examination which is a binary random variable denoting examination of a snippet at rank r. $A_u$ stands for Attractiveness (a user wants to click on a document after examining its snippet) and is also a binary random variable showing whether document u is attractive to user, given query q. Finally $C_u$ again a binary random variable denoting a click on document u."
   ]
  },
  {
   "cell_type": "code",
   "execution_count": 46,
   "metadata": {
    "ExecuteTime": {
     "end_time": "2019-01-23T19:33:32.557960Z",
     "start_time": "2019-01-23T19:33:32.324416Z"
    },
    "collapsed": true
   },
   "outputs": [],
   "source": [
    "class YandexData():\n",
    "    \"\"\"\n",
    "        The structure of lookup table:\n",
    "        {\n",
    "            'q_id':{\n",
    "                'sessions':[\n",
    "                {\n",
    "                    'url_ids':[],\n",
    "                    'clicks':[]\n",
    "                }\n",
    "                ]\n",
    "                'docs':set([])\n",
    "            }\n",
    "        }\n",
    "\n",
    "        @Properties:        \n",
    "            - `q_id` is the id of the different queries, key to object:\n",
    "                - `session` is a list of the sessions of this particular `q_id`\n",
    "                    each `session` have a list of `url_ids` and a `clicks` list, \n",
    "                    the url in `clicks` must be in the `url_ids`\n",
    "                - `docs` is the union of all urls returned by the system per query\n",
    "    \"\"\"\n",
    "\n",
    "    def __init__(self, path):\n",
    "        self.path = path\n",
    "        self._load_data()\n",
    "\n",
    "    def _load_data(self):\n",
    "        CUTOFF = 3\n",
    "        queries_lookup = {}\n",
    "\n",
    "        # Lambda functions\n",
    "        def new_item(): return {'sessions': [], 'docs': set()}\n",
    "\n",
    "        def turn2int(x): return [int(i) for i in x]\n",
    "\n",
    "        with open(self.path, 'r') as f:\n",
    "            click = []\n",
    "            last_q = None\n",
    "\n",
    "            for line in f.readlines():\n",
    "                vals = re.split(r'\\t+', line.rstrip())\n",
    "\n",
    "                # If line is a query\n",
    "                if vals[2] == 'Q':\n",
    "                    current_q = vals[3]\n",
    "\n",
    "                    # Get the relevant URLs\n",
    "                    cutoff_urls = turn2int(vals[5:5 + CUTOFF])\n",
    "\n",
    "                    if current_q not in queries_lookup.keys():\n",
    "                        it = new_item()\n",
    "                    else:\n",
    "                        it = queries_lookup[current_q]\n",
    "\n",
    "                    # Append documents for this query and add session\n",
    "                    it['docs'] = it['docs'].union(cutoff_urls)\n",
    "                    it['sessions'].append({'urls': cutoff_urls, 'clicks': []})\n",
    "\n",
    "                    queries_lookup[current_q] = it\n",
    "                    last_q = current_q\n",
    "\n",
    "                # Else if line is a click\n",
    "                elif vals[2] == 'C':\n",
    "                    # If the document has been found in the active query, add\n",
    "                    # the document to the selection of clicks\n",
    "                    if int(vals[3]) in queries_lookup[last_q]['sessions'][-1]['urls']:\n",
    "                        queries_lookup[last_q][\n",
    "                            'sessions'][-1]['clicks'].append(int(vals[3]))\n",
    "\n",
    "        self.queries_lookup = queries_lookup"
   ]
  },
  {
   "cell_type": "code",
   "execution_count": 47,
   "metadata": {
    "ExecuteTime": {
     "end_time": "2019-01-23T19:33:32.591816Z",
     "start_time": "2019-01-23T19:33:32.569006Z"
    },
    "collapsed": true
   },
   "outputs": [],
   "source": [
    "class ClickModel(object):\n",
    "    def __init__(self):\n",
    "        pass\n",
    "\n",
    "    def train(self, data):\n",
    "        raise NotImplementedError\n",
    "\n",
    "    def get_probs(self, rankings):\n",
    "        raise NotImplementedError\n",
    "\n",
    "    def is_click(self, rankings, epsilon=0.1):\n",
    "        \"\"\"\n",
    "            simulate the click, return a boolean list of the same length as `rankings`, True means clicked\n",
    "        \"\"\"\n",
    "        probs = self.get_probs(rankings, epsilon)\n",
    "\n",
    "        def click_fn(p): return rd.uniform(0, 1) < p\n",
    "        return list(map(click_fn, probs))"
   ]
  },
  {
   "cell_type": "code",
   "execution_count": 48,
   "metadata": {
    "ExecuteTime": {
     "end_time": "2019-01-23T19:33:32.939707Z",
     "start_time": "2019-01-23T19:33:32.603753Z"
    },
    "collapsed": true
   },
   "outputs": [],
   "source": [
    "class PBM(ClickModel):\n",
    "    def __init__(self):\n",
    "        super(PBM, self).__init__()\n",
    "        self.alpha_uq = {}\n",
    "        self.gamma_r = [rd.uniform(0, 1) for _ in range(CUTOFF)]\n",
    "\n",
    "    def train(self, data, T=20, load=False):\n",
    "        \"\"\" Trains the parameters of the model according to the data.\n",
    "\n",
    "            @Input:\n",
    "                - data: YandexData object, Yandex data\n",
    "                - T: integer, time steps of the training loop\n",
    "                - load: boolean, whether trained gamma is used (we dont need trained alpha because during inference they are replaced by epsilon)\n",
    "        \"\"\"\n",
    "\n",
    "        if load:\n",
    "            self.gamma_r = [0.9998564405092062,\n",
    "                            0.48278049975990095, 0.3335993103977007]\n",
    "            return\n",
    "\n",
    "        self._init_alpha(data)\n",
    "\n",
    "        for _ in range(T):\n",
    "            self._update_alpha(data)\n",
    "            self._update_gamma(data)\n",
    "\n",
    "    def _init_alpha(self, data):\n",
    "        \"\"\" Initializes alpha on the model to be a dictionary only where (query, doc) have a value\n",
    "\n",
    "            @Input:\n",
    "                - data: YandexData object\n",
    "        \"\"\"\n",
    "        for q, it in data.queries_lookup.items():\n",
    "            for doc in it['docs']:\n",
    "                self.alpha_uq[(q, doc)] = rd.uniform(0, 1)\n",
    "\n",
    "    def _update_alpha(self, data):\n",
    "        \"\"\" Performs an update of alpha in EM\n",
    "\n",
    "            @Input:\n",
    "                - data: YandexData object\n",
    "        \"\"\"\n",
    "\n",
    "        # Get all the sessions and docs belonging to a query.\n",
    "        ql = data.queries_lookup\n",
    "        new_alpha_uq = deepcopy(self.alpha_uq)\n",
    "\n",
    "        # Loop through all query-doc combos\n",
    "        for (q, u), alpha in self.alpha_uq.items():\n",
    "            count = 2\n",
    "            contribution_sum = 1\n",
    "\n",
    "            for sess in ql[q]['sessions']:\n",
    "                if u not in sess['urls']:\n",
    "                    continue\n",
    "\n",
    "                count += 1\n",
    "                if u in sess['clicks']:\n",
    "                    contribution_sum += 1\n",
    "                else:\n",
    "                    ind = sess['urls'].index(u)\n",
    "                    contribution_sum += (1 - self.gamma_r[ind]) * \\\n",
    "                        alpha / (1 - self.gamma_r[ind] * alpha)\n",
    "\n",
    "            new_alpha_uq[(q, u)] = contribution_sum / count\n",
    "\n",
    "        self.alpha_uq = new_alpha_uq\n",
    "\n",
    "    def _update_gamma(self, data):\n",
    "        \"\"\" Performs an update of gamma in EM\n",
    "\n",
    "            @Input:\n",
    "                - data: YandexData object\n",
    "        \"\"\"\n",
    "\n",
    "        ql = data.queries_lookup\n",
    "        sess_num = 0\n",
    "        contrib_sum = [0] * CUTOFF\n",
    "        for q, item in ql.items():\n",
    "            sess_num += len(item['sessions'])\n",
    "            for sess in item['sessions']:\n",
    "                for i, u in enumerate(sess['urls']):\n",
    "                    if u in sess['clicks']:\n",
    "                        contrib_sum[i] += 1\n",
    "                    else:\n",
    "                        contrib_sum[i] += self.gamma_r[i] * (1 - self.alpha_uq[q, u]) / (\n",
    "                            1 - self.gamma_r[i] * self.alpha_uq[q, u])\n",
    "\n",
    "        self.gamma_r = [i / sess_num for i in contrib_sum]\n",
    "        return\n",
    "\n",
    "    def get_probs(self, rankings, epsilon=0.1):\n",
    "        \"\"\"\n",
    "            assume `rankings` are list of relevance labels\n",
    "            use `epsilon` to substitute alpha, typical value is 0.1\n",
    "        \"\"\"\n",
    "        def prob_fn(args): return self.gamma_r[\n",
    "            args[0]] * (1 - epsilon if args[1] == 1 else epsilon)\n",
    "        return list(map(prob_fn, enumerate(rankings)))\n"
   ]
  },
  {
   "cell_type": "code",
   "execution_count": 49,
   "metadata": {
    "ExecuteTime": {
     "end_time": "2019-01-23T19:33:32.990750Z",
     "start_time": "2019-01-23T19:33:32.942610Z"
    },
    "collapsed": true
   },
   "outputs": [],
   "source": [
    "CUTOFF = 3\n",
    "\n",
    "\n",
    "class RCM(ClickModel):\n",
    "    \"\"\"\n",
    "        Random clicking model\n",
    "    \"\"\"\n",
    "\n",
    "    def __init__(self):\n",
    "        super(RCM, self).__init__()\n",
    "        self.gamma = [0] * 3\n",
    "\n",
    "    def train(self, data, load=True):\n",
    "        \"\"\"\n",
    "            get the \\rho paramter for random clicking by calculating the fraction of clicked urls among all returned results\n",
    "        \"\"\"\n",
    "        if load:\n",
    "            self.rho = 0.2802838475726031\n",
    "            return\n",
    "        sess_num = 0\n",
    "        cli_num = 0\n",
    "        for q, it in data.queries_lookup.items():\n",
    "            for sess in it['sessions']:\n",
    "                cli_num += len(sess['clicks'])\n",
    "            sess_num += len(it['sessions'])\n",
    "        self.rho = cli_num / sess_num / CUTOFF\n",
    "        return\n",
    "\n",
    "    def get_probs(self, rankings, epsilon=None):\n",
    "        \"\"\"\n",
    "            return \\rho list regardless\n",
    "        \"\"\"\n",
    "        return [self.rho] * len(rankings)\n"
   ]
  },
  {
   "cell_type": "markdown",
   "metadata": {},
   "source": [
    "### Step 5: Simulate Interleaving Experiment"
   ]
  },
  {
   "cell_type": "markdown",
   "metadata": {},
   "source": [
    "With the click models developed, it will be possible to simulate an online experiment. The general flow will start with initializing a click model, and training it to learn the gamma values (for PBM) or the rho (for RCM). For PBM, epsilon values will be used as alpha proxy. The data from Yandex will be used to train the models using Expectation Maximization. These models will then serve in the online experiments to simulate clicks.\n",
    "\n",
    "The goal is to run a number of `k` competitions of our rankers E and P. For each competition, their rankings will be interleaved, and according to the used model, clicks for their rankings will be simulated. The ranker with the largest number of clicks win the round. This is repeated k times, after which the number of times E wins out of all victory games is used as the main proportion."
   ]
  },
  {
   "cell_type": "code",
   "execution_count": 50,
   "metadata": {
    "ExecuteTime": {
     "end_time": "2019-01-23T19:33:34.171934Z",
     "start_time": "2019-01-23T19:33:32.996738Z"
    },
    "collapsed": true
   },
   "outputs": [],
   "source": [
    "# Import the appropriate data\n",
    "yd = YandexData('./YandexRelPredChallenge.txt')\n",
    "\n",
    "# Training the PBM and RCM model\n",
    "model_PBM = PBM()\n",
    "model_PBM.train(yd, 100, True)\n",
    "model_RCM = RCM()\n",
    "model_RCM.train(yd, True)"
   ]
  },
  {
   "cell_type": "code",
   "execution_count": 52,
   "metadata": {
    "ExecuteTime": {
     "end_time": "2019-01-23T19:33:34.251759Z",
     "start_time": "2019-01-23T19:33:34.193361Z"
    },
    "collapsed": true
   },
   "outputs": [],
   "source": [
    "def simulate_experiment(rankingA, rankingB, model, interleave_fn=team_draft_interleaving, k=100):\n",
    "    ''' Simulate an online experiment using a given `interleave_fn`, click `model`, and two lists.\n",
    "    \n",
    "        @Input:\n",
    "            - rankingA: a list of relevance labels\n",
    "            - rankingB: a list of relevance labels\n",
    "            - model: a click model, like PBM and RCM\n",
    "            - interleave_fn: an interleave function, like team-draft and probabilsitic\n",
    "            - k: number of times to put two ranker-lists against another\n",
    "            \n",
    "        @Output:\n",
    "            - Proportion of wins of E vs P\n",
    "    '''\n",
    "    \n",
    "    E_wins = 0\n",
    "    P_wins = 0\n",
    "\n",
    "    for i in range(k):\n",
    "        E_clicks = 0\n",
    "        P_clicks = 0\n",
    "        new_results_w_models = interleave_fn(rankingA, rankingB)\n",
    "        new_results_relevance = [i[0] for i in new_results_w_models]\n",
    "        ranker_clicked = [i[1] for i in new_results_w_models]\n",
    "        clicks = model.is_click(rankings=new_results_relevance, epsilon=0.1)\n",
    "\n",
    "        for index, click in enumerate(clicks):\n",
    "            if click:\n",
    "                if ranker_clicked[index] == 1:\n",
    "                    E_clicks += 1\n",
    "                else:\n",
    "                    P_clicks += 1\n",
    "\n",
    "        if E_clicks > P_clicks:\n",
    "            E_wins += 1\n",
    "        elif P_clicks > E_clicks:\n",
    "            P_wins += 1\n",
    "\n",
    "    return (E_wins + 1) / (E_wins + P_wins + 1)\n"
   ]
  },
  {
   "cell_type": "markdown",
   "metadata": {},
   "source": [
    "### Step 6: Estimate sample size"
   ]
  },
  {
   "cell_type": "markdown",
   "metadata": {},
   "source": [
    "We allow a chance of falsely rejecting the null hypothesis (i.e. concluding that E is better than P, when it is not) of 5\\% and a chance of falsely not rejecting the null hypothesis (i.e. not concluding that E is better than P, when it is) of 10\\%.\n",
    "\n",
    "We use the proportion p of wins for E against P for determining the number of required impressions using the proportion test. Assuming that the sampling distribution for proportions can be approximated by a normal distribution we use the following equation to compute the minimum sample size.\n",
    "\n",
    "$N' \\geq \\bigg( \\frac{z_1-\\alpha \\sqrt{p_0(1-p_0)} +z_1 -\\beta \\sqrt{p_1(1-p_1)}}{\\delta} \\bigg)^2 $\n",
    "\n",
    "where $p_0 = 0.5$ since each system wins 50\\% of the times and $p_1$ is the proportion of times E wins over P out of k simulations. $\\alpha$ and $\\beta$ specify the level of significance. We set $\\alpha = 0.05$ , $\\beta = 0.1$ , $\\delta = |p_0 -p_1|$ and z is the standard normal distribution.\n",
    "\n",
    "Finally, using the continuity correction the minimum sample size is determined as $N = N' + \\frac{1}{\\delta}$."
   ]
  },
  {
   "cell_type": "code",
   "execution_count": 66,
   "metadata": {
    "ExecuteTime": {
     "end_time": "2019-01-23T19:43:00.697103Z",
     "start_time": "2019-01-23T19:43:00.585699Z"
    },
    "collapsed": true
   },
   "outputs": [],
   "source": [
    "def calc_sample_size(p_val, alpha=0.05, beta=0.10, p_null=0.5):\n",
    "    ''' Calculate the sample size given a p-val according to a one-tailed statistical test.\n",
    "    \n",
    "        @Input:\n",
    "            -p_val: a p-value used to calculate an N high enough for statistical significance.\n",
    "    '''\n",
    "    z = norm.ppf(1-alpha)*math.sqrt(p_null * (1 - p_null)) + \\\n",
    "        norm.ppf(1-beta) * math.sqrt(p_val * (1-p_val))\n",
    "\n",
    "    if p_val == p_null:\n",
    "        return math.inf\n",
    "\n",
    "    if z == 0.0:\n",
    "        return -1\n",
    "\n",
    "    return ((z/(abs(p_val-p_null)))**2) + 1/abs(p_val-p_null)\n",
    "\n",
    "def calc_sample_size_for_bins(interleave_fn=team_draft_interleaving, model=model_PBM, rankings=rankings):\n",
    "    ''' Given an interleaving technique, model and simulated rankings, calculate the bins according to the offline\n",
    "        evaluation (Δ M), and then calculate the sample size for each bin. Each sample size will be represented by \n",
    "        the min, median and maximum.\n",
    "        \n",
    "        @Output: a table with all the minimum, maximum and median sample size required.\n",
    "    '''\n",
    "    \n",
    "    bins = calculate_Dmeasures(rankings)\n",
    "    bin_vals = list(bins.keys())\n",
    "    table = pd.DataFrame(index=bin_vals,columns=['minimum', 'median', 'maximum'])    \n",
    "\n",
    "    for bin_key, bin_el in bins.items():\n",
    "        minimum, median, maximum = calc_sample_size_for_bin(bin_el, interleave_fn, model)\n",
    "        table.loc[bin_key]['minimum'] = minimum\n",
    "        table.loc[bin_key]['median'] = median\n",
    "        table.loc[bin_key]['maximum'] = maximum\n",
    "    \n",
    "    return table\n",
    "\n",
    "\n",
    "def calc_sample_size_for_bin(binned_el, interleave_fn, model):\n",
    "    ''' Given a particular bin, calculate the sample size needed to calculate a statistical significant appearance of the\n",
    "        effect size implicated by the underlying bin. \n",
    "        \n",
    "        @Input:\n",
    "            - binned_el: a grouping of pairs based on offline evaluation effect sizes.\n",
    "            - interleave_fn: interleave function\n",
    "            - model: click-based model\n",
    "            \n",
    "        @Output:\n",
    "            - A tuple of minimum, median and maximum of required sample size\n",
    "    '''\n",
    "    \n",
    "    result = []\n",
    "\n",
    "    for pair in binned_el:\n",
    "        pairE = rankings[pair][0]\n",
    "        pairP = rankings[pair][1]\n",
    "        proportion_E_win = simulate_experiment(pairE, pairP, model, interleave_fn)\n",
    "        sample_size = calc_sample_size(proportion_E_win)\n",
    "\n",
    "        if sample_size >= 0:\n",
    "            result.append(calc_sample_size(proportion_E_win))\n",
    "\n",
    "    if len(binned_el) > 0:\n",
    "        maximum = np.max(result)\n",
    "        minimum = np.min(result)\n",
    "        median = np.median(result)\n",
    "\n",
    "        return (minimum, median, maximum)\n",
    "    \n",
    "    return math.inf, math.inf, math.inf"
   ]
  },
  {
   "cell_type": "markdown",
   "metadata": {},
   "source": [
    "### Step 7: Analysis"
   ]
  },
  {
   "cell_type": "markdown",
   "metadata": {},
   "source": [
    "With the online and offline analysi, it should now be possible to run each model and interleaving technique and examine the results. Due to the high varying nature of these methods, each of the model-technique pairs will be plotted 4 times to show the variance, along with the table to show each bin along with its required sample size."
   ]
  },
  {
   "cell_type": "code",
   "execution_count": 145,
   "metadata": {
    "ExecuteTime": {
     "end_time": "2019-01-23T20:27:24.305866Z",
     "start_time": "2019-01-23T20:27:24.275057Z"
    },
    "collapsed": true
   },
   "outputs": [],
   "source": [
    "def run_setup(model, method):\n",
    "    ''' Given a model and method, calculate sample size for bins of the simulated rankings calculated during step 1.\n",
    "    \n",
    "        - Print table displaying the minium, median and maximum\n",
    "        - Plot each of the resulting bins along with their required sample size 4 times to show variance.\n",
    "    '''\n",
    "    table_setup = calc_sample_size_for_bins(interleave_fn=method, model=model)\n",
    "    fig, axes = plt.subplots(nrows=2, ncols=2, figsize=(15,15))\n",
    "    fig.suptitle('4 sample runs of {}_{}'.format(model.__class__.__name__, method.__name__))\n",
    "    plot_title = '{}_{}'.format(model.__class__.__name__, method.__name__)\n",
    "    \n",
    "    print(table_setup)\n",
    "    \n",
    "    for i, ax in enumerate(axes.flatten()):    \n",
    "        table_setup.plot.bar(title=plot_title, ax=ax)\n",
    "        table_setup = calc_sample_size_for_bins(interleave_fn=method, model=model)\n",
    "    \n",
    "def run_all_setups(models=[model_PBM, model_RCM], methods=[team_draft_interleaving, probabilistic_interleaving]):\n",
    "    for model in models:\n",
    "        for method in methods:\n",
    "            run_setup(model, method)"
   ]
  },
  {
   "cell_type": "markdown",
   "metadata": {},
   "source": [
    "#### Team-draft PBM "
   ]
  },
  {
   "cell_type": "code",
   "execution_count": 146,
   "metadata": {
    "ExecuteTime": {
     "end_time": "2019-01-23T20:27:28.053428Z",
     "start_time": "2019-01-23T20:27:25.882130Z"
    },
    "scrolled": false
   },
   "outputs": [
    {
     "name": "stdout",
     "output_type": "stream",
     "text": [
      "   minimum   median  maximum\n",
      "0  52.6586  570.345  14474.1\n",
      "1  12.2151  84.6903     1132\n",
      "2  12.4968   14.189  26.6713\n",
      "3  8.70421  13.3218  17.6005\n",
      "4  7.78945  7.94379  20.4892\n",
      "5  4.70554  5.98919  9.63311\n",
      "6  6.81702  8.09473  9.37244\n",
      "7      inf      inf      inf\n",
      "8      inf      inf      inf\n",
      "9      inf      inf      inf\n"
     ]
    },
    {
     "data": {
      "image/png": "[encoded data removed]",
      "text/plain": [
       "<matplotlib.figure.Figure at 0x11463d438>"
      ]
     },
     "metadata": {},
     "output_type": "display_data"
    }
   ],
   "source": [
    "run_setup(model_PBM, team_draft_interleaving)"
   ]
  },
  {
   "cell_type": "markdown",
   "metadata": {},
   "source": [
    "On average, the PBM team-draft shows a strong tendency to decrease along with the x-axis of the above plot. Most strongly, this can be found reflected in all of the dercreasing statistics (median, minimum and maximum). While an outlier might skew the results to seem less descending, as the maximum and minimum reach a strong decrease after approximately bin 2, it can be inferred that the larger the effect size is in ΔM, and as the proportional difference in victories increases, so does the required number of sample size decrease."
   ]
  },
  {
   "cell_type": "markdown",
   "metadata": {},
   "source": [
    "#### Probabilistic Interleaving PBM"
   ]
  },
  {
   "cell_type": "code",
   "execution_count": 147,
   "metadata": {
    "ExecuteTime": {
     "end_time": "2019-01-23T20:27:40.226358Z",
     "start_time": "2019-01-23T20:27:33.668616Z"
    }
   },
   "outputs": [
    {
     "name": "stdout",
     "output_type": "stream",
     "text": [
      "   minimum   median  maximum\n",
      "0  43.2096   121.46  492.957\n",
      "1  26.0475  70.5949   134.27\n",
      "2  24.0397  43.8389  51.5182\n",
      "3  15.0529  20.6787  25.3457\n",
      "4  11.7166  19.0826  24.2613\n",
      "5  11.0973  12.8042  15.0529\n",
      "6  9.49847  11.7927  14.0869\n",
      "7      inf      inf      inf\n",
      "8      inf      inf      inf\n",
      "9      inf      inf      inf\n"
     ]
    },
    {
     "data": {
      "image/png": "[encoded data removed]",
      "text/plain": [
       "<matplotlib.figure.Figure at 0x1a174855f8>"
      ]
     },
     "metadata": {},
     "output_type": "display_data"
    }
   ],
   "source": [
    "run_setup(model_PBM, probabilistic_interleaving)"
   ]
  },
  {
   "cell_type": "markdown",
   "metadata": {},
   "source": [
    "Similar to team-draft, probabilistic interleaving shows an almost smooth descent in sample size needed, except the bins with the smallest effect size (leftmost on the axis) on average display lower rankings and thus, the difference between the bins seem less extreme initially. The differences become less extreme, resembling those of the team-draft PBM."
   ]
  },
  {
   "cell_type": "markdown",
   "metadata": {},
   "source": [
    "#### Team-draft RCM"
   ]
  },
  {
   "cell_type": "code",
   "execution_count": 148,
   "metadata": {
    "ExecuteTime": {
     "end_time": "2019-01-23T20:27:43.568590Z",
     "start_time": "2019-01-23T20:27:40.269540Z"
    }
   },
   "outputs": [
    {
     "name": "stdout",
     "output_type": "stream",
     "text": [
      "   minimum   median  maximum\n",
      "0  132.555  798.351   3125.8\n",
      "1  100.499  429.867  1702.76\n",
      "2  125.417  2809.49  27934.2\n",
      "3  304.998  6293.29  24158.1\n",
      "4  203.137  429.867  907.627\n",
      "5  68.3928  220.324  240.224\n",
      "6  290.876  635.277  979.679\n",
      "7      inf      inf      inf\n",
      "8      inf      inf      inf\n",
      "9      inf      inf      inf\n"
     ]
    },
    {
     "data": {
      "image/png": "[encoded data removed]",
      "text/plain": [
       "<matplotlib.figure.Figure at 0x1a1d3765c0>"
      ]
     },
     "metadata": {},
     "output_type": "display_data"
    }
   ],
   "source": [
    "run_setup(model_RCM, team_draft_interleaving) "
   ]
  },
  {
   "cell_type": "markdown",
   "metadata": {},
   "source": [
    "On average, the results seem to be wildly variant for RCM, for each bin. No correlation can be calculated between bins and required samples, and no bin is preferred. As such, no correlation can be estimated."
   ]
  },
  {
   "cell_type": "markdown",
   "metadata": {},
   "source": [
    "#### Probabilistic Interleaving RCM"
   ]
  },
  {
   "cell_type": "code",
   "execution_count": 151,
   "metadata": {
    "ExecuteTime": {
     "end_time": "2019-01-23T20:28:02.224734Z",
     "start_time": "2019-01-23T20:27:56.215864Z"
    }
   },
   "outputs": [
    {
     "name": "stdout",
     "output_type": "stream",
     "text": [
      "   minimum   median  maximum\n",
      "0  115.992  141.237  1953.11\n",
      "1  560.328  4977.02      inf\n",
      "2  173.035  1380.62  7256.44\n",
      "3  50.7864  2911.32  27934.2\n",
      "4      102  399.928    29925\n",
      "5  181.695  2911.32  6766.31\n",
      "6  815.821  2500.49  4185.15\n",
      "7      inf      inf      inf\n",
      "8      inf      inf      inf\n",
      "9      inf      inf      inf\n"
     ]
    },
    {
     "data": {
      "image/png": "[encoded data removed]",
      "text/plain": [
       "<matplotlib.figure.Figure at 0x114609e80>"
      ]
     },
     "metadata": {},
     "output_type": "display_data"
    }
   ],
   "source": [
    "run_setup(model_RCM, probabilistic_interleaving)"
   ]
  },
  {
   "cell_type": "markdown",
   "metadata": {},
   "source": [
    "Similar to team-draft interleaving, there does not seem to be any particular preference for bin or coherent pattern. As such, this model can indeed only be used as a baseline of comparison."
   ]
  },
  {
   "cell_type": "code",
   "execution_count": null,
   "metadata": {
    "collapsed": true
   },
   "outputs": [],
   "source": []
  }
 ],
 "metadata": {
  "anaconda-cloud": {},
  "kernelspec": {
   "display_name": "Python 3",
   "language": "python",
   "name": "python3"
  },
  "language_info": {
   "codemirror_mode": {
    "name": "ipython",
    "version": 3
   },
   "file_extension": ".py",
   "mimetype": "text/x-python",
   "name": "python",
   "nbconvert_exporter": "python",
   "pygments_lexer": "ipython3",
   "version": "3.6.3"
  },
  "toc": {
   "base_numbering": 1,
   "nav_menu": {},
   "number_sections": true,
   "sideBar": true,
   "skip_h1_title": false,
   "title_cell": "Table of Contents",
   "title_sidebar": "Contents",
   "toc_cell": false,
   "toc_position": {
    "height": "calc(100% - 180px)",
    "left": "10px",
    "top": "150px",
    "width": "512px"
   },
   "toc_section_display": true,
   "toc_window_display": true
  },
  "varInspector": {
   "cols": {
    "lenName": 16,
    "lenType": 16,
    "lenVar": 40
   },
   "kernels_config": {
    "python": {
     "delete_cmd_postfix": "",
     "delete_cmd_prefix": "del ",
     "library": "var_list.py",
     "varRefreshCmd": "print(var_dic_list())"
    },
    "r": {
     "delete_cmd_postfix": ") ",
     "delete_cmd_prefix": "rm(",
     "library": "var_list.r",
     "varRefreshCmd": "cat(var_dic_list()) "
    }
   },
   "types_to_exclude": [
    "module",
    "function",
    "builtin_function_or_method",
    "instance",
    "_Feature"
   ],
   "window_display": false
  }
 },
 "nbformat": 4,
 "nbformat_minor": 1
}
